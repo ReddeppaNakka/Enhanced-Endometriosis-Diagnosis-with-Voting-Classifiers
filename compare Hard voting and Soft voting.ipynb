{
 "cells": [
  {
   "cell_type": "code",
   "execution_count": 1,
   "id": "40b3f985",
   "metadata": {},
   "outputs": [],
   "source": [
    "import matplotlib.pyplot as plt\n",
    "import numpy as np\n",
    "from sklearn.ensemble import VotingClassifier\n",
    "from sklearn.tree import DecisionTreeClassifier\n",
    "from sklearn.svm import SVC\n",
    "from sklearn.ensemble import GradientBoostingClassifier\n",
    "from sklearn.metrics import accuracy_score, precision_score, recall_score, f1_score, roc_auc_score\n",
    "from sklearn.model_selection import train_test_split\n",
    "import pandas as pd\n"
   ]
  },
  {
   "cell_type": "code",
   "execution_count": 2,
   "id": "d10a3ed0",
   "metadata": {},
   "outputs": [],
   "source": [
    "# Load the dataset\n",
    "file_path = 'dataset.csv'\n",
    "data = pd.read_csv(file_path)"
   ]
  },
  {
   "cell_type": "code",
   "execution_count": 3,
   "id": "def9991c",
   "metadata": {},
   "outputs": [
    {
     "name": "stdout",
     "output_type": "stream",
     "text": [
      "Data loaded successfully:\n",
      "   Heavy / Extreme menstrual bleeding  Menstrual pain (Dysmenorrhea)  \\\n",
      "0                                   1                              1   \n",
      "1                                   1                              1   \n",
      "2                                   0                              1   \n",
      "3                                   1                              0   \n",
      "4                                   0                              1   \n",
      "\n",
      "   Painful / Burning pain during sex (Dyspareunia)  Pelvic pain  \\\n",
      "0                                                1            1   \n",
      "1                                                1            1   \n",
      "2                                                0            1   \n",
      "3                                                0            0   \n",
      "4                                                1            0   \n",
      "\n",
      "   Irregular / Missed periods  Cramping  Abdominal pain / pressure  Back pain  \\\n",
      "0                           1         1                          1          1   \n",
      "1                           1         1                          1          1   \n",
      "2                           1         1                          0          1   \n",
      "3                           0         1                          1          1   \n",
      "4                           0         1                          0          1   \n",
      "\n",
      "   Painful bowel movements  Nausea  ...  Fever  Hormonal problems  Bloating  \\\n",
      "0                        1       1  ...      0                  0         1   \n",
      "1                        1       1  ...      0                  0         0   \n",
      "2                        0       1  ...      0                  0         1   \n",
      "3                        0       0  ...      0                  0         1   \n",
      "4                        1       0  ...      0                  0         0   \n",
      "\n",
      "   Feeling sick  Decreased energy / Exhaustion  \\\n",
      "0             1                              1   \n",
      "1             1                              1   \n",
      "2             1                              1   \n",
      "3             0                              1   \n",
      "4             0                              0   \n",
      "\n",
      "   Abdominal Cramps during Intercourse  Insomnia / Sleeplessness  \\\n",
      "0                                    1                         0   \n",
      "1                                    1                         0   \n",
      "2                                    0                         1   \n",
      "3                                    0                         0   \n",
      "4                                    0                         0   \n",
      "\n",
      "   Acne / pimples  Loss of appetite  label  \n",
      "0               0                 0      1  \n",
      "1               0                 1      1  \n",
      "2               0                 0      1  \n",
      "3               0                 0      1  \n",
      "4               0                 0      1  \n",
      "\n",
      "[5 rows x 59 columns]\n"
     ]
    }
   ],
   "source": [
    "# Check if the data is loaded correctly\n",
    "print(\"Data loaded successfully:\")\n",
    "print(data.head())"
   ]
  },
  {
   "cell_type": "code",
   "execution_count": 4,
   "id": "d8529d6a",
   "metadata": {},
   "outputs": [],
   "source": [
    "# Separate features and target label\n",
    "X = data.drop(columns='label')\n",
    "y = data['label']"
   ]
  },
  {
   "cell_type": "code",
   "execution_count": 5,
   "id": "599b4b68",
   "metadata": {},
   "outputs": [],
   "source": [
    "# Split data into train and test sets\n",
    "X_train, X_test, y_train, y_test = train_test_split(X, y, test_size=0.2, random_state=42)\n"
   ]
  },
  {
   "cell_type": "code",
   "execution_count": 6,
   "id": "05146a23",
   "metadata": {},
   "outputs": [],
   "source": [
    "# Define classifiers\n",
    "dt_classifier = DecisionTreeClassifier(random_state=42)\n",
    "svm_classifier = SVC(kernel='rbf', gamma='auto', probability=True, random_state=42)\n",
    "gb_classifier = GradientBoostingClassifier(random_state=42)\n"
   ]
  },
  {
   "cell_type": "code",
   "execution_count": 7,
   "id": "1726629c",
   "metadata": {},
   "outputs": [],
   "source": [
    "# Define the voting classifiers\n",
    "soft_voting_classifier = VotingClassifier(estimators=[\n",
    "    ('svm', svm_classifier),\n",
    "    ('decision_tree', dt_classifier),\n",
    "    ('gradient_boosting', gb_classifier)\n",
    "], voting='soft')  # 'soft' voting uses predicted probabilities for averaging\n",
    "\n",
    "hard_voting_classifier = VotingClassifier(estimators=[\n",
    "    ('svm', svm_classifier),\n",
    "    ('decision_tree', dt_classifier),\n",
    "    ('gradient_boosting', gb_classifier)\n",
    "], voting='hard')  # 'hard' voting uses predicted class labels for majority rule voting\n"
   ]
  },
  {
   "cell_type": "code",
   "execution_count": 8,
   "id": "ef4ce44f",
   "metadata": {},
   "outputs": [
    {
     "data": {
      "text/html": [
       "<style>#sk-container-id-1 {color: black;background-color: white;}#sk-container-id-1 pre{padding: 0;}#sk-container-id-1 div.sk-toggleable {background-color: white;}#sk-container-id-1 label.sk-toggleable__label {cursor: pointer;display: block;width: 100%;margin-bottom: 0;padding: 0.3em;box-sizing: border-box;text-align: center;}#sk-container-id-1 label.sk-toggleable__label-arrow:before {content: \"▸\";float: left;margin-right: 0.25em;color: #696969;}#sk-container-id-1 label.sk-toggleable__label-arrow:hover:before {color: black;}#sk-container-id-1 div.sk-estimator:hover label.sk-toggleable__label-arrow:before {color: black;}#sk-container-id-1 div.sk-toggleable__content {max-height: 0;max-width: 0;overflow: hidden;text-align: left;background-color: #f0f8ff;}#sk-container-id-1 div.sk-toggleable__content pre {margin: 0.2em;color: black;border-radius: 0.25em;background-color: #f0f8ff;}#sk-container-id-1 input.sk-toggleable__control:checked~div.sk-toggleable__content {max-height: 200px;max-width: 100%;overflow: auto;}#sk-container-id-1 input.sk-toggleable__control:checked~label.sk-toggleable__label-arrow:before {content: \"▾\";}#sk-container-id-1 div.sk-estimator input.sk-toggleable__control:checked~label.sk-toggleable__label {background-color: #d4ebff;}#sk-container-id-1 div.sk-label input.sk-toggleable__control:checked~label.sk-toggleable__label {background-color: #d4ebff;}#sk-container-id-1 input.sk-hidden--visually {border: 0;clip: rect(1px 1px 1px 1px);clip: rect(1px, 1px, 1px, 1px);height: 1px;margin: -1px;overflow: hidden;padding: 0;position: absolute;width: 1px;}#sk-container-id-1 div.sk-estimator {font-family: monospace;background-color: #f0f8ff;border: 1px dotted black;border-radius: 0.25em;box-sizing: border-box;margin-bottom: 0.5em;}#sk-container-id-1 div.sk-estimator:hover {background-color: #d4ebff;}#sk-container-id-1 div.sk-parallel-item::after {content: \"\";width: 100%;border-bottom: 1px solid gray;flex-grow: 1;}#sk-container-id-1 div.sk-label:hover label.sk-toggleable__label {background-color: #d4ebff;}#sk-container-id-1 div.sk-serial::before {content: \"\";position: absolute;border-left: 1px solid gray;box-sizing: border-box;top: 0;bottom: 0;left: 50%;z-index: 0;}#sk-container-id-1 div.sk-serial {display: flex;flex-direction: column;align-items: center;background-color: white;padding-right: 0.2em;padding-left: 0.2em;position: relative;}#sk-container-id-1 div.sk-item {position: relative;z-index: 1;}#sk-container-id-1 div.sk-parallel {display: flex;align-items: stretch;justify-content: center;background-color: white;position: relative;}#sk-container-id-1 div.sk-item::before, #sk-container-id-1 div.sk-parallel-item::before {content: \"\";position: absolute;border-left: 1px solid gray;box-sizing: border-box;top: 0;bottom: 0;left: 50%;z-index: -1;}#sk-container-id-1 div.sk-parallel-item {display: flex;flex-direction: column;z-index: 1;position: relative;background-color: white;}#sk-container-id-1 div.sk-parallel-item:first-child::after {align-self: flex-end;width: 50%;}#sk-container-id-1 div.sk-parallel-item:last-child::after {align-self: flex-start;width: 50%;}#sk-container-id-1 div.sk-parallel-item:only-child::after {width: 0;}#sk-container-id-1 div.sk-dashed-wrapped {border: 1px dashed gray;margin: 0 0.4em 0.5em 0.4em;box-sizing: border-box;padding-bottom: 0.4em;background-color: white;}#sk-container-id-1 div.sk-label label {font-family: monospace;font-weight: bold;display: inline-block;line-height: 1.2em;}#sk-container-id-1 div.sk-label-container {text-align: center;}#sk-container-id-1 div.sk-container {/* jupyter's `normalize.less` sets `[hidden] { display: none; }` but bootstrap.min.css set `[hidden] { display: none !important; }` so we also need the `!important` here to be able to override the default hidden behavior on the sphinx rendered scikit-learn.org. See: https://github.com/scikit-learn/scikit-learn/issues/21755 */display: inline-block !important;position: relative;}#sk-container-id-1 div.sk-text-repr-fallback {display: none;}</style><div id=\"sk-container-id-1\" class=\"sk-top-container\"><div class=\"sk-text-repr-fallback\"><pre>VotingClassifier(estimators=[(&#x27;svm&#x27;,\n",
       "                              SVC(gamma=&#x27;auto&#x27;, probability=True,\n",
       "                                  random_state=42)),\n",
       "                             (&#x27;decision_tree&#x27;,\n",
       "                              DecisionTreeClassifier(random_state=42)),\n",
       "                             (&#x27;gradient_boosting&#x27;,\n",
       "                              GradientBoostingClassifier(random_state=42))])</pre><b>In a Jupyter environment, please rerun this cell to show the HTML representation or trust the notebook. <br />On GitHub, the HTML representation is unable to render, please try loading this page with nbviewer.org.</b></div><div class=\"sk-container\" hidden><div class=\"sk-item sk-dashed-wrapped\"><div class=\"sk-label-container\"><div class=\"sk-label sk-toggleable\"><input class=\"sk-toggleable__control sk-hidden--visually\" id=\"sk-estimator-id-1\" type=\"checkbox\" ><label for=\"sk-estimator-id-1\" class=\"sk-toggleable__label sk-toggleable__label-arrow\">VotingClassifier</label><div class=\"sk-toggleable__content\"><pre>VotingClassifier(estimators=[(&#x27;svm&#x27;,\n",
       "                              SVC(gamma=&#x27;auto&#x27;, probability=True,\n",
       "                                  random_state=42)),\n",
       "                             (&#x27;decision_tree&#x27;,\n",
       "                              DecisionTreeClassifier(random_state=42)),\n",
       "                             (&#x27;gradient_boosting&#x27;,\n",
       "                              GradientBoostingClassifier(random_state=42))])</pre></div></div></div><div class=\"sk-parallel\"><div class=\"sk-parallel-item\"><div class=\"sk-item\"><div class=\"sk-label-container\"><div class=\"sk-label sk-toggleable\"><label>svm</label></div></div><div class=\"sk-serial\"><div class=\"sk-item\"><div class=\"sk-estimator sk-toggleable\"><input class=\"sk-toggleable__control sk-hidden--visually\" id=\"sk-estimator-id-2\" type=\"checkbox\" ><label for=\"sk-estimator-id-2\" class=\"sk-toggleable__label sk-toggleable__label-arrow\">SVC</label><div class=\"sk-toggleable__content\"><pre>SVC(gamma=&#x27;auto&#x27;, probability=True, random_state=42)</pre></div></div></div></div></div></div><div class=\"sk-parallel-item\"><div class=\"sk-item\"><div class=\"sk-label-container\"><div class=\"sk-label sk-toggleable\"><label>decision_tree</label></div></div><div class=\"sk-serial\"><div class=\"sk-item\"><div class=\"sk-estimator sk-toggleable\"><input class=\"sk-toggleable__control sk-hidden--visually\" id=\"sk-estimator-id-3\" type=\"checkbox\" ><label for=\"sk-estimator-id-3\" class=\"sk-toggleable__label sk-toggleable__label-arrow\">DecisionTreeClassifier</label><div class=\"sk-toggleable__content\"><pre>DecisionTreeClassifier(random_state=42)</pre></div></div></div></div></div></div><div class=\"sk-parallel-item\"><div class=\"sk-item\"><div class=\"sk-label-container\"><div class=\"sk-label sk-toggleable\"><label>gradient_boosting</label></div></div><div class=\"sk-serial\"><div class=\"sk-item\"><div class=\"sk-estimator sk-toggleable\"><input class=\"sk-toggleable__control sk-hidden--visually\" id=\"sk-estimator-id-4\" type=\"checkbox\" ><label for=\"sk-estimator-id-4\" class=\"sk-toggleable__label sk-toggleable__label-arrow\">GradientBoostingClassifier</label><div class=\"sk-toggleable__content\"><pre>GradientBoostingClassifier(random_state=42)</pre></div></div></div></div></div></div></div></div></div></div>"
      ],
      "text/plain": [
       "VotingClassifier(estimators=[('svm',\n",
       "                              SVC(gamma='auto', probability=True,\n",
       "                                  random_state=42)),\n",
       "                             ('decision_tree',\n",
       "                              DecisionTreeClassifier(random_state=42)),\n",
       "                             ('gradient_boosting',\n",
       "                              GradientBoostingClassifier(random_state=42))])"
      ]
     },
     "execution_count": 8,
     "metadata": {},
     "output_type": "execute_result"
    }
   ],
   "source": [
    "# Train the classifiers\n",
    "soft_voting_classifier.fit(X_train, y_train)\n",
    "hard_voting_classifier.fit(X_train, y_train)"
   ]
  },
  {
   "cell_type": "code",
   "execution_count": 9,
   "id": "b5b44d7d",
   "metadata": {},
   "outputs": [],
   "source": [
    "# Predictions\n",
    "y_pred_soft_voting = soft_voting_classifier.predict(X_test)\n",
    "y_pred_hard_voting = hard_voting_classifier.predict(X_test)\n"
   ]
  },
  {
   "cell_type": "code",
   "execution_count": 10,
   "id": "fa9f820a",
   "metadata": {},
   "outputs": [],
   "source": [
    "# Probability estimates for ROC AUC\n",
    "soft_voting_probs = soft_voting_classifier.predict_proba(X_test)[:, 1]\n"
   ]
  },
  {
   "cell_type": "code",
   "execution_count": 11,
   "id": "9ccbe8a7",
   "metadata": {},
   "outputs": [],
   "source": [
    "# Evaluate metrics\n",
    "soft_voting_metrics = {\n",
    "    'Accuracy': accuracy_score(y_test, y_pred_soft_voting),\n",
    "    'Precision': precision_score(y_test, y_pred_soft_voting),\n",
    "    'Recall': recall_score(y_test, y_pred_soft_voting),\n",
    "    'F1 Score': f1_score(y_test, y_pred_soft_voting),\n",
    "    'ROC AUC': roc_auc_score(y_test, soft_voting_probs)\n",
    "}\n",
    "\n",
    "hard_voting_metrics = {\n",
    "    'Accuracy': accuracy_score(y_test, y_pred_hard_voting),\n",
    "    'Precision': precision_score(y_test, y_pred_hard_voting),\n",
    "    'Recall': recall_score(y_test, y_pred_hard_voting),\n",
    "    'F1 Score': f1_score(y_test, y_pred_hard_voting),\n",
    "    'ROC AUC': roc_auc_score(y_test, y_pred_hard_voting)  # This might not be valid for hard voting\n",
    "}"
   ]
  },
  {
   "cell_type": "code",
   "execution_count": 12,
   "id": "481971c6",
   "metadata": {},
   "outputs": [
    {
     "name": "stdout",
     "output_type": "stream",
     "text": [
      "Soft Voting Metrics: {'Accuracy': 0.9213483146067416, 'Precision': 0.96875, 'Recall': 0.8942307692307693, 'F1 Score': 0.93, 'ROC AUC': 0.9797297297297298}\n",
      "Hard Voting Metrics: {'Accuracy': 0.9157303370786517, 'Precision': 0.968421052631579, 'Recall': 0.8846153846153846, 'F1 Score': 0.9246231155778896, 'ROC AUC': 0.922037422037422}\n"
     ]
    }
   ],
   "source": [
    "# Print metrics for debugging\n",
    "print(\"Soft Voting Metrics:\", soft_voting_metrics)\n",
    "print(\"Hard Voting Metrics:\", hard_voting_metrics)"
   ]
  },
  {
   "cell_type": "code",
   "execution_count": 13,
   "id": "57ca3fc2",
   "metadata": {},
   "outputs": [
    {
     "data": {
      "image/png": "[encoded data removed]",
      "text/plain": [
       "<Figure size 600x500 with 1 Axes>"
      ]
     },
     "metadata": {},
     "output_type": "display_data"
    }
   ],
   "source": [
    "# Plotting bar graph\n",
    "metrics_names = list(soft_voting_metrics.keys())\n",
    "soft_voting_values = list(soft_voting_metrics.values())\n",
    "hard_voting_values = list(hard_voting_metrics.values())\n",
    "\n",
    "x = np.arange(len(metrics_names))\n",
    "width = 0.35\n",
    "\n",
    "fig, ax = plt.subplots(figsize=(6, 5))\n",
    "rects1 = ax.bar(x - width/2, soft_voting_values, width, label='Soft Voting')\n",
    "rects2 = ax.bar(x + width/2, hard_voting_values, width, label='Hard Voting')\n",
    "\n",
    "ax.set_ylabel('Scores')\n",
    "ax.set_title('Comparison of Soft Voting vs Hard Voting')\n",
    "ax.set_xticks(x)\n",
    "ax.set_xticklabels(metrics_names)\n",
    "ax.legend(loc='upper center', bbox_to_anchor=(0.5, -0.15), ncol=2)\n",
    "def autolabel(rects):\n",
    "    \"\"\"Attach a text label above each bar in *rects*, displaying its height.\"\"\"\n",
    "    for rect in rects:\n",
    "        height = rect.get_height()\n",
    "        ax.annotate(f'{height:.2f}',\n",
    "                    xy=(rect.get_x() + rect.get_width() / 2, height),\n",
    "                    xytext=(0, 3),  # 3 points vertical offset\n",
    "                    textcoords=\"offset points\",\n",
    "                    ha='center', va='bottom')\n",
    "\n",
    "autolabel(rects1)\n",
    "autolabel(rects2)\n",
    "\n",
    "fig.tight_layout()\n",
    "\n",
    "plt.show()\n",
    "\n"
   ]
  },
  {
   "cell_type": "code",
   "execution_count": 14,
   "id": "78520344",
   "metadata": {},
   "outputs": [
    {
     "name": "stdout",
     "output_type": "stream",
     "text": [
      "Metrics for Soft Voting Classifier (SVM, DT, GB):\n",
      "Accuracy: 0.9213\n",
      "Precision: 0.9688\n",
      "Recall: 0.8942\n",
      "F1 Score: 0.9300\n",
      "ROC AUC: 0.9797\n",
      "\n",
      "Metrics for Hard Voting Classifier (SVM, DT, GB):\n",
      "Accuracy: 0.9157\n",
      "Precision: 0.9684\n",
      "Recall: 0.8846\n",
      "F1 Score: 0.9246\n",
      "ROC AUC: 0.9220\n",
      "\n",
      "Best model based on Accuracy: Soft Voting Classifier\n"
     ]
    }
   ],
   "source": [
    "# Print metrics for soft voting\n",
    "print(\"Metrics for Soft Voting Classifier (SVM, DT, GB):\")\n",
    "for metric, value in soft_voting_metrics.items():\n",
    "    print(f\"{metric}: {value:.4f}\")\n",
    "\n",
    "# Print metrics for hard voting\n",
    "print(\"\\nMetrics for Hard Voting Classifier (SVM, DT, GB):\")\n",
    "for metric, value in hard_voting_metrics.items():\n",
    "    print(f\"{metric}: {value:.4f}\")\n",
    "\n",
    "# Determine the best model based on all metrics\n",
    "if soft_voting_metrics['Accuracy'] > hard_voting_metrics['Accuracy']:\n",
    "    print(\"\\nBest model based on Accuracy: Soft Voting Classifier\")\n",
    "else:\n",
    "    print(\"\\nBest model based on Accuracy: Hard Voting Classifier\")"
   ]
  },
  {
   "cell_type": "code",
   "execution_count": null,
   "id": "5f5b2809",
   "metadata": {},
   "outputs": [],
   "source": []
  },
  {
   "cell_type": "code",
   "execution_count": null,
   "id": "75fdc138",
   "metadata": {},
   "outputs": [],
   "source": []
  }
 ],
 "metadata": {
  "kernelspec": {
   "display_name": "Python 3 (ipykernel)",
   "language": "python",
   "name": "python3"
  },
  "language_info": {
   "codemirror_mode": {
    "name": "ipython",
    "version": 3
   },
   "file_extension": ".py",
   "mimetype": "text/x-python",
   "name": "python",
   "nbconvert_exporter": "python",
   "pygments_lexer": "ipython3",
   "version": "3.11.3"
  }
 },
 "nbformat": 4,
 "nbformat_minor": 5
}
